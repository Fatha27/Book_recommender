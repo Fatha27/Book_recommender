{
  "cells": [
    {
      "cell_type": "code",
      "execution_count": 1,
      "metadata": {
        "id": "nlBq2i4Wk-iZ"
      },
      "outputs": [],
      "source": [
        "import numpy as np\n",
        "import pandas as pd\n",
        "import matplotlib.pyplot as plt\n",
        "import difflib\n",
        "from sklearn.feature_extraction.text import TfidfVectorizer\n",
        "from sklearn.metrics.pairwise import cosine_similarity"
      ]
    },
    {
      "cell_type": "code",
      "execution_count": 2,
      "metadata": {
        "id": "ArvYaYRhwx6w"
      },
      "outputs": [],
      "source": [
        "booksdf=pd.read_csv('Goodreads_BestBooksEver_1-10000.csv')\n"
      ]
    },
    {
      "cell_type": "code",
      "execution_count": 3,
      "metadata": {
        "id": "5z3RRK5Lw9I_"
      },
      "outputs": [],
      "source": [
        "bdf=booksdf.copy()"
      ]
    },
    {
      "cell_type": "code",
      "execution_count": 4,
      "metadata": {
        "colab": {
          "base_uri": "https://localhost:8080/",
          "height": 417
        },
        "id": "C6M5xHJYxzpi",
        "outputId": "99652fe9-95c3-4c33-ebda-edaf12b71cae"
      },
      "outputs": [
        {
          "data": {
            "text/html": [
              "<div>\n",
              "<style scoped>\n",
              "    .dataframe tbody tr th:only-of-type {\n",
              "        vertical-align: middle;\n",
              "    }\n",
              "\n",
              "    .dataframe tbody tr th {\n",
              "        vertical-align: top;\n",
              "    }\n",
              "\n",
              "    .dataframe thead th {\n",
              "        text-align: right;\n",
              "    }\n",
              "</style>\n",
              "<table border=\"1\" class=\"dataframe\">\n",
              "  <thead>\n",
              "    <tr style=\"text-align: right;\">\n",
              "      <th></th>\n",
              "      <th>url</th>\n",
              "      <th>bookTitle</th>\n",
              "      <th>bookImage</th>\n",
              "      <th>bookAuthors</th>\n",
              "      <th>bookDesc</th>\n",
              "      <th>bookRating</th>\n",
              "      <th>ratingCount</th>\n",
              "      <th>reviewCount</th>\n",
              "      <th>bookPages</th>\n",
              "      <th>bookGenres</th>\n",
              "      <th>bookISBN</th>\n",
              "      <th>recommendations</th>\n",
              "    </tr>\n",
              "  </thead>\n",
              "  <tbody>\n",
              "    <tr>\n",
              "      <th>0</th>\n",
              "      <td>https://www.goodreads.com/book/show/2767052-th...</td>\n",
              "      <td>The Hunger Games</td>\n",
              "      <td>https://i.gr-assets.com/images/S/compressed.ph...</td>\n",
              "      <td>Suzanne Collins</td>\n",
              "      <td>Could you survive on your own in the wild, wit...</td>\n",
              "      <td>4.32</td>\n",
              "      <td>6717635</td>\n",
              "      <td>176054</td>\n",
              "      <td>374 pages</td>\n",
              "      <td>Young Adult/31,498|Fiction/17,878|Science Fict...</td>\n",
              "      <td>9.780439e+12</td>\n",
              "      <td>['Divergent (Divergent, #1)|https://www.goodre...</td>\n",
              "    </tr>\n",
              "    <tr>\n",
              "      <th>1</th>\n",
              "      <td>https://www.goodreads.com/book/show/2.Harry_Po...</td>\n",
              "      <td>Harry Potter and the Order of the Phoenix</td>\n",
              "      <td>https://i.gr-assets.com/images/S/compressed.ph...</td>\n",
              "      <td>J.K. Rowling,Mary GrandPré</td>\n",
              "      <td>There is a door at the end of a silent corrido...</td>\n",
              "      <td>4.50</td>\n",
              "      <td>2668409</td>\n",
              "      <td>45724</td>\n",
              "      <td>870 pages</td>\n",
              "      <td>Fantasy/1,797|Young Adult/15,961|Fiction/14,15...</td>\n",
              "      <td>NaN</td>\n",
              "      <td>['Harry Potter and the Cursed Child: Parts One...</td>\n",
              "    </tr>\n",
              "    <tr>\n",
              "      <th>2</th>\n",
              "      <td>https://www.goodreads.com/book/show/2657.To_Ki...</td>\n",
              "      <td>To Kill a Mockingbird</td>\n",
              "      <td>https://i.gr-assets.com/images/S/compressed.ph...</td>\n",
              "      <td>Harper Lee</td>\n",
              "      <td>The unforgettable novel of a childhood in a sl...</td>\n",
              "      <td>4.28</td>\n",
              "      <td>4772918</td>\n",
              "      <td>95595</td>\n",
              "      <td>324 pages</td>\n",
              "      <td>Classics/47,203|Fiction/23,575|Historical-Hist...</td>\n",
              "      <td>NaN</td>\n",
              "      <td>['The Great Gatsby|https://www.goodreads.com/b...</td>\n",
              "    </tr>\n",
              "    <tr>\n",
              "      <th>3</th>\n",
              "      <td>https://www.goodreads.com/book/show/1885.Pride...</td>\n",
              "      <td>Pride and Prejudice</td>\n",
              "      <td>https://i.gr-assets.com/images/S/compressed.ph...</td>\n",
              "      <td>Jane Austen,Anna Quindlen</td>\n",
              "      <td>Alternate cover edition of ISBN 9780679783268S...</td>\n",
              "      <td>4.27</td>\n",
              "      <td>3206070</td>\n",
              "      <td>74020</td>\n",
              "      <td>279 pages</td>\n",
              "      <td>Classics/52,699|Fiction/15,730|Romance/12,874|...</td>\n",
              "      <td>NaN</td>\n",
              "      <td>['Jane Eyre|https://www.goodreads.com/book/sho...</td>\n",
              "    </tr>\n",
              "    <tr>\n",
              "      <th>4</th>\n",
              "      <td>https://www.goodreads.com/book/show/41865.Twil...</td>\n",
              "      <td>Twilight</td>\n",
              "      <td>https://i.gr-assets.com/images/S/compressed.ph...</td>\n",
              "      <td>Stephenie Meyer</td>\n",
              "      <td>About three things I was absolutely positive.F...</td>\n",
              "      <td>3.61</td>\n",
              "      <td>5231000</td>\n",
              "      <td>107619</td>\n",
              "      <td>501 pages</td>\n",
              "      <td>Young Adult/19,982|Fantasy/19,312|Romance/12,0...</td>\n",
              "      <td>9.780316e+12</td>\n",
              "      <td>['The Hunger Games (The Hunger Games, #1)|http...</td>\n",
              "    </tr>\n",
              "  </tbody>\n",
              "</table>\n",
              "</div>"
            ],
            "text/plain": [
              "                                                 url  \\\n",
              "0  https://www.goodreads.com/book/show/2767052-th...   \n",
              "1  https://www.goodreads.com/book/show/2.Harry_Po...   \n",
              "2  https://www.goodreads.com/book/show/2657.To_Ki...   \n",
              "3  https://www.goodreads.com/book/show/1885.Pride...   \n",
              "4  https://www.goodreads.com/book/show/41865.Twil...   \n",
              "\n",
              "                                   bookTitle  \\\n",
              "0                           The Hunger Games   \n",
              "1  Harry Potter and the Order of the Phoenix   \n",
              "2                      To Kill a Mockingbird   \n",
              "3                        Pride and Prejudice   \n",
              "4                                   Twilight   \n",
              "\n",
              "                                           bookImage  \\\n",
              "0  https://i.gr-assets.com/images/S/compressed.ph...   \n",
              "1  https://i.gr-assets.com/images/S/compressed.ph...   \n",
              "2  https://i.gr-assets.com/images/S/compressed.ph...   \n",
              "3  https://i.gr-assets.com/images/S/compressed.ph...   \n",
              "4  https://i.gr-assets.com/images/S/compressed.ph...   \n",
              "\n",
              "                  bookAuthors  \\\n",
              "0             Suzanne Collins   \n",
              "1  J.K. Rowling,Mary GrandPré   \n",
              "2                  Harper Lee   \n",
              "3   Jane Austen,Anna Quindlen   \n",
              "4             Stephenie Meyer   \n",
              "\n",
              "                                            bookDesc  bookRating  ratingCount  \\\n",
              "0  Could you survive on your own in the wild, wit...        4.32      6717635   \n",
              "1  There is a door at the end of a silent corrido...        4.50      2668409   \n",
              "2  The unforgettable novel of a childhood in a sl...        4.28      4772918   \n",
              "3  Alternate cover edition of ISBN 9780679783268S...        4.27      3206070   \n",
              "4  About three things I was absolutely positive.F...        3.61      5231000   \n",
              "\n",
              "   reviewCount  bookPages                                         bookGenres  \\\n",
              "0       176054  374 pages  Young Adult/31,498|Fiction/17,878|Science Fict...   \n",
              "1        45724  870 pages  Fantasy/1,797|Young Adult/15,961|Fiction/14,15...   \n",
              "2        95595  324 pages  Classics/47,203|Fiction/23,575|Historical-Hist...   \n",
              "3        74020  279 pages  Classics/52,699|Fiction/15,730|Romance/12,874|...   \n",
              "4       107619  501 pages  Young Adult/19,982|Fantasy/19,312|Romance/12,0...   \n",
              "\n",
              "       bookISBN                                    recommendations  \n",
              "0  9.780439e+12  ['Divergent (Divergent, #1)|https://www.goodre...  \n",
              "1           NaN  ['Harry Potter and the Cursed Child: Parts One...  \n",
              "2           NaN  ['The Great Gatsby|https://www.goodreads.com/b...  \n",
              "3           NaN  ['Jane Eyre|https://www.goodreads.com/book/sho...  \n",
              "4  9.780316e+12  ['The Hunger Games (The Hunger Games, #1)|http...  "
            ]
          },
          "execution_count": 4,
          "metadata": {},
          "output_type": "execute_result"
        }
      ],
      "source": [
        "bdf.head()"
      ]
    },
    {
      "cell_type": "code",
      "execution_count": 5,
      "metadata": {
        "id": "wRC5wAQRzHdq"
      },
      "outputs": [],
      "source": [
        "bdf=bdf.dropna()"
      ]
    },
    {
      "cell_type": "code",
      "execution_count": 6,
      "metadata": {
        "id": "faaFbT7H0pU8"
      },
      "outputs": [],
      "source": [
        "bdfc=bdf[['bookISBN','bookTitle','bookAuthors','bookDesc','bookGenres']]"
      ]
    },
    {
      "cell_type": "code",
      "execution_count": 7,
      "metadata": {},
      "outputs": [],
      "source": [
        "bdf['FirstAuthor'] = bdfc['bookAuthors'].str.split(',').str[0]\n"
      ]
    },
    {
      "cell_type": "code",
      "execution_count": 8,
      "metadata": {
        "id": "qV4RP3Sj7AD3"
      },
      "outputs": [],
      "source": [
        "bdf = bdf.reset_index(drop=True)\n"
      ]
    },
    {
      "cell_type": "code",
      "execution_count": 9,
      "metadata": {},
      "outputs": [],
      "source": [
        "bdfc = bdfc.reset_index(drop=True)\n"
      ]
    },
    {
      "cell_type": "code",
      "execution_count": 10,
      "metadata": {},
      "outputs": [
        {
          "data": {
            "text/plain": [
              "0    Suzanne Collins\n",
              "1    Stephenie Meyer\n",
              "2       Markus Zusak\n",
              "3      George Orwell\n",
              "Name: FirstAuthor, dtype: object"
            ]
          },
          "execution_count": 10,
          "metadata": {},
          "output_type": "execute_result"
        }
      ],
      "source": [
        "bdf['FirstAuthor'][:4]"
      ]
    },
    {
      "cell_type": "code",
      "execution_count": 54,
      "metadata": {},
      "outputs": [],
      "source": [
        "import pickle\n",
        "pickle.dump(bdf,open(\"d:/bookrecmodel/dataframeog1\",\"wb\"))"
      ]
    },
    {
      "cell_type": "code",
      "execution_count": 12,
      "metadata": {
        "id": "Cui0feQPxJEp"
      },
      "outputs": [],
      "source": [
        "bdf.drop('url',axis=1,inplace=True)"
      ]
    },
    {
      "cell_type": "code",
      "execution_count": 13,
      "metadata": {
        "colab": {
          "base_uri": "https://localhost:8080/",
          "height": 590
        },
        "id": "Roj1fNRC68dk",
        "outputId": "31dca8b8-a288-4f31-da02-ed1e28ecf412"
      },
      "outputs": [
        {
          "data": {
            "text/html": [
              "<div>\n",
              "<style scoped>\n",
              "    .dataframe tbody tr th:only-of-type {\n",
              "        vertical-align: middle;\n",
              "    }\n",
              "\n",
              "    .dataframe tbody tr th {\n",
              "        vertical-align: top;\n",
              "    }\n",
              "\n",
              "    .dataframe thead th {\n",
              "        text-align: right;\n",
              "    }\n",
              "</style>\n",
              "<table border=\"1\" class=\"dataframe\">\n",
              "  <thead>\n",
              "    <tr style=\"text-align: right;\">\n",
              "      <th></th>\n",
              "      <th>bookTitle</th>\n",
              "      <th>bookImage</th>\n",
              "      <th>bookAuthors</th>\n",
              "      <th>bookDesc</th>\n",
              "      <th>bookRating</th>\n",
              "      <th>ratingCount</th>\n",
              "      <th>reviewCount</th>\n",
              "      <th>bookPages</th>\n",
              "      <th>bookGenres</th>\n",
              "      <th>bookISBN</th>\n",
              "      <th>recommendations</th>\n",
              "      <th>FirstAuthor</th>\n",
              "    </tr>\n",
              "  </thead>\n",
              "  <tbody>\n",
              "    <tr>\n",
              "      <th>0</th>\n",
              "      <td>The Hunger Games</td>\n",
              "      <td>https://i.gr-assets.com/images/S/compressed.ph...</td>\n",
              "      <td>Suzanne Collins</td>\n",
              "      <td>Could you survive on your own in the wild, wit...</td>\n",
              "      <td>4.32</td>\n",
              "      <td>6717635</td>\n",
              "      <td>176054</td>\n",
              "      <td>374 pages</td>\n",
              "      <td>Young Adult/31,498|Fiction/17,878|Science Fict...</td>\n",
              "      <td>9.780439e+12</td>\n",
              "      <td>['Divergent (Divergent, #1)|https://www.goodre...</td>\n",
              "      <td>Suzanne Collins</td>\n",
              "    </tr>\n",
              "    <tr>\n",
              "      <th>1</th>\n",
              "      <td>Twilight</td>\n",
              "      <td>https://i.gr-assets.com/images/S/compressed.ph...</td>\n",
              "      <td>Stephenie Meyer</td>\n",
              "      <td>About three things I was absolutely positive.F...</td>\n",
              "      <td>3.61</td>\n",
              "      <td>5231000</td>\n",
              "      <td>107619</td>\n",
              "      <td>501 pages</td>\n",
              "      <td>Young Adult/19,982|Fantasy/19,312|Romance/12,0...</td>\n",
              "      <td>9.780316e+12</td>\n",
              "      <td>['The Hunger Games (The Hunger Games, #1)|http...</td>\n",
              "      <td>Stephenie Meyer</td>\n",
              "    </tr>\n",
              "    <tr>\n",
              "      <th>2</th>\n",
              "      <td>The Book Thief</td>\n",
              "      <td>https://i.gr-assets.com/images/S/compressed.ph...</td>\n",
              "      <td>Markus Zusak</td>\n",
              "      <td>Librarian's note: An alternate cover edition c...</td>\n",
              "      <td>4.38</td>\n",
              "      <td>1954165</td>\n",
              "      <td>117307</td>\n",
              "      <td>552 pages</td>\n",
              "      <td>Historical-Historical Fiction/20,161|Fiction/1...</td>\n",
              "      <td>9.780376e+12</td>\n",
              "      <td>['All the Light We Cannot See|https://www.good...</td>\n",
              "      <td>Markus Zusak</td>\n",
              "    </tr>\n",
              "    <tr>\n",
              "      <th>3</th>\n",
              "      <td>Animal Farm</td>\n",
              "      <td>https://i.gr-assets.com/images/S/compressed.ph...</td>\n",
              "      <td>George Orwell,Boris Grabnar,Celâl Üster,Celâl ...</td>\n",
              "      <td>George Orwell's timeless and timely allegorica...</td>\n",
              "      <td>3.96</td>\n",
              "      <td>2926888</td>\n",
              "      <td>61574</td>\n",
              "      <td>122 pages</td>\n",
              "      <td>Classics/34,158|Fiction/19,552|Science Fiction...</td>\n",
              "      <td>9.780452e+12</td>\n",
              "      <td>['The Great Gatsby|https://www.goodreads.com/b...</td>\n",
              "      <td>George Orwell</td>\n",
              "    </tr>\n",
              "    <tr>\n",
              "      <th>4</th>\n",
              "      <td>The Chronicles of Narnia</td>\n",
              "      <td>https://i.gr-assets.com/images/S/compressed.ph...</td>\n",
              "      <td>C.S. Lewis,Pauline Baynes</td>\n",
              "      <td>Librarian note: An alternate cover for this ed...</td>\n",
              "      <td>4.26</td>\n",
              "      <td>548649</td>\n",
              "      <td>10743</td>\n",
              "      <td>767 pages</td>\n",
              "      <td>Fantasy/11,823|Classics/4,396|Fiction/3,903|Yo...</td>\n",
              "      <td>9.780066e+12</td>\n",
              "      <td>['J.R.R. Tolkien 4-Book Boxed Set: The Hobbit ...</td>\n",
              "      <td>C.S. Lewis</td>\n",
              "    </tr>\n",
              "  </tbody>\n",
              "</table>\n",
              "</div>"
            ],
            "text/plain": [
              "                  bookTitle  \\\n",
              "0          The Hunger Games   \n",
              "1                  Twilight   \n",
              "2            The Book Thief   \n",
              "3               Animal Farm   \n",
              "4  The Chronicles of Narnia   \n",
              "\n",
              "                                           bookImage  \\\n",
              "0  https://i.gr-assets.com/images/S/compressed.ph...   \n",
              "1  https://i.gr-assets.com/images/S/compressed.ph...   \n",
              "2  https://i.gr-assets.com/images/S/compressed.ph...   \n",
              "3  https://i.gr-assets.com/images/S/compressed.ph...   \n",
              "4  https://i.gr-assets.com/images/S/compressed.ph...   \n",
              "\n",
              "                                         bookAuthors  \\\n",
              "0                                    Suzanne Collins   \n",
              "1                                    Stephenie Meyer   \n",
              "2                                       Markus Zusak   \n",
              "3  George Orwell,Boris Grabnar,Celâl Üster,Celâl ...   \n",
              "4                          C.S. Lewis,Pauline Baynes   \n",
              "\n",
              "                                            bookDesc  bookRating  ratingCount  \\\n",
              "0  Could you survive on your own in the wild, wit...        4.32      6717635   \n",
              "1  About three things I was absolutely positive.F...        3.61      5231000   \n",
              "2  Librarian's note: An alternate cover edition c...        4.38      1954165   \n",
              "3  George Orwell's timeless and timely allegorica...        3.96      2926888   \n",
              "4  Librarian note: An alternate cover for this ed...        4.26       548649   \n",
              "\n",
              "   reviewCount  bookPages                                         bookGenres  \\\n",
              "0       176054  374 pages  Young Adult/31,498|Fiction/17,878|Science Fict...   \n",
              "1       107619  501 pages  Young Adult/19,982|Fantasy/19,312|Romance/12,0...   \n",
              "2       117307  552 pages  Historical-Historical Fiction/20,161|Fiction/1...   \n",
              "3        61574  122 pages  Classics/34,158|Fiction/19,552|Science Fiction...   \n",
              "4        10743  767 pages  Fantasy/11,823|Classics/4,396|Fiction/3,903|Yo...   \n",
              "\n",
              "       bookISBN                                    recommendations  \\\n",
              "0  9.780439e+12  ['Divergent (Divergent, #1)|https://www.goodre...   \n",
              "1  9.780316e+12  ['The Hunger Games (The Hunger Games, #1)|http...   \n",
              "2  9.780376e+12  ['All the Light We Cannot See|https://www.good...   \n",
              "3  9.780452e+12  ['The Great Gatsby|https://www.goodreads.com/b...   \n",
              "4  9.780066e+12  ['J.R.R. Tolkien 4-Book Boxed Set: The Hobbit ...   \n",
              "\n",
              "       FirstAuthor  \n",
              "0  Suzanne Collins  \n",
              "1  Stephenie Meyer  \n",
              "2     Markus Zusak  \n",
              "3    George Orwell  \n",
              "4       C.S. Lewis  "
            ]
          },
          "execution_count": 13,
          "metadata": {},
          "output_type": "execute_result"
        }
      ],
      "source": [
        "bdf.head()"
      ]
    },
    {
      "cell_type": "code",
      "execution_count": 14,
      "metadata": {
        "colab": {
          "base_uri": "https://localhost:8080/",
          "height": 414
        },
        "id": "xAndoFFB1hQa",
        "outputId": "266239eb-84b7-42ae-abca-433993c7dbd3"
      },
      "outputs": [
        {
          "data": {
            "text/html": [
              "<div>\n",
              "<style scoped>\n",
              "    .dataframe tbody tr th:only-of-type {\n",
              "        vertical-align: middle;\n",
              "    }\n",
              "\n",
              "    .dataframe tbody tr th {\n",
              "        vertical-align: top;\n",
              "    }\n",
              "\n",
              "    .dataframe thead th {\n",
              "        text-align: right;\n",
              "    }\n",
              "</style>\n",
              "<table border=\"1\" class=\"dataframe\">\n",
              "  <thead>\n",
              "    <tr style=\"text-align: right;\">\n",
              "      <th></th>\n",
              "      <th>bookISBN</th>\n",
              "      <th>bookTitle</th>\n",
              "      <th>bookAuthors</th>\n",
              "      <th>bookDesc</th>\n",
              "      <th>bookGenres</th>\n",
              "    </tr>\n",
              "  </thead>\n",
              "  <tbody>\n",
              "    <tr>\n",
              "      <th>0</th>\n",
              "      <td>9.780439e+12</td>\n",
              "      <td>The Hunger Games</td>\n",
              "      <td>Suzanne Collins</td>\n",
              "      <td>Could you survive on your own in the wild, wit...</td>\n",
              "      <td>Young Adult/31,498|Fiction/17,878|Science Fict...</td>\n",
              "    </tr>\n",
              "    <tr>\n",
              "      <th>1</th>\n",
              "      <td>9.780316e+12</td>\n",
              "      <td>Twilight</td>\n",
              "      <td>Stephenie Meyer</td>\n",
              "      <td>About three things I was absolutely positive.F...</td>\n",
              "      <td>Young Adult/19,982|Fantasy/19,312|Romance/12,0...</td>\n",
              "    </tr>\n",
              "    <tr>\n",
              "      <th>2</th>\n",
              "      <td>9.780376e+12</td>\n",
              "      <td>The Book Thief</td>\n",
              "      <td>Markus Zusak</td>\n",
              "      <td>Librarian's note: An alternate cover edition c...</td>\n",
              "      <td>Historical-Historical Fiction/20,161|Fiction/1...</td>\n",
              "    </tr>\n",
              "    <tr>\n",
              "      <th>3</th>\n",
              "      <td>9.780452e+12</td>\n",
              "      <td>Animal Farm</td>\n",
              "      <td>George Orwell,Boris Grabnar,Celâl Üster,Celâl ...</td>\n",
              "      <td>George Orwell's timeless and timely allegorica...</td>\n",
              "      <td>Classics/34,158|Fiction/19,552|Science Fiction...</td>\n",
              "    </tr>\n",
              "    <tr>\n",
              "      <th>4</th>\n",
              "      <td>9.780066e+12</td>\n",
              "      <td>The Chronicles of Narnia</td>\n",
              "      <td>C.S. Lewis,Pauline Baynes</td>\n",
              "      <td>Librarian note: An alternate cover for this ed...</td>\n",
              "      <td>Fantasy/11,823|Classics/4,396|Fiction/3,903|Yo...</td>\n",
              "    </tr>\n",
              "  </tbody>\n",
              "</table>\n",
              "</div>"
            ],
            "text/plain": [
              "       bookISBN                 bookTitle  \\\n",
              "0  9.780439e+12          The Hunger Games   \n",
              "1  9.780316e+12                  Twilight   \n",
              "2  9.780376e+12            The Book Thief   \n",
              "3  9.780452e+12               Animal Farm   \n",
              "4  9.780066e+12  The Chronicles of Narnia   \n",
              "\n",
              "                                         bookAuthors  \\\n",
              "0                                    Suzanne Collins   \n",
              "1                                    Stephenie Meyer   \n",
              "2                                       Markus Zusak   \n",
              "3  George Orwell,Boris Grabnar,Celâl Üster,Celâl ...   \n",
              "4                          C.S. Lewis,Pauline Baynes   \n",
              "\n",
              "                                            bookDesc  \\\n",
              "0  Could you survive on your own in the wild, wit...   \n",
              "1  About three things I was absolutely positive.F...   \n",
              "2  Librarian's note: An alternate cover edition c...   \n",
              "3  George Orwell's timeless and timely allegorica...   \n",
              "4  Librarian note: An alternate cover for this ed...   \n",
              "\n",
              "                                          bookGenres  \n",
              "0  Young Adult/31,498|Fiction/17,878|Science Fict...  \n",
              "1  Young Adult/19,982|Fantasy/19,312|Romance/12,0...  \n",
              "2  Historical-Historical Fiction/20,161|Fiction/1...  \n",
              "3  Classics/34,158|Fiction/19,552|Science Fiction...  \n",
              "4  Fantasy/11,823|Classics/4,396|Fiction/3,903|Yo...  "
            ]
          },
          "execution_count": 14,
          "metadata": {},
          "output_type": "execute_result"
        }
      ],
      "source": [
        "bdfc.head()"
      ]
    },
    {
      "cell_type": "code",
      "execution_count": 15,
      "metadata": {
        "colab": {
          "base_uri": "https://localhost:8080/",
          "height": 52
        },
        "id": "O102oL-d2CiC",
        "outputId": "fe88e959-9a84-4d2c-beea-4ff4b7964f0e"
      },
      "outputs": [
        {
          "data": {
            "text/plain": [
              "'Classics/34,158|Fiction/19,552|Science Fiction-Dystopia/3,918|Fantasy/3,207|Literature/2,798|Politics/2,664|Academic-School/2,459|Science Fiction/2,021|Novels/1,762|Academic-Read For School/1,051'"
            ]
          },
          "execution_count": 15,
          "metadata": {},
          "output_type": "execute_result"
        }
      ],
      "source": [
        "bdfc['bookGenres'].iloc[3]"
      ]
    },
    {
      "cell_type": "code",
      "execution_count": 16,
      "metadata": {
        "colab": {
          "base_uri": "https://localhost:8080/"
        },
        "id": "eWBthrvh7TVt",
        "outputId": "de5cafe0-ab70-463e-b0c3-f36ba5f4c68e"
      },
      "outputs": [
        {
          "data": {
            "text/plain": [
              "'Classics/34,158|Fiction/19,552|Science Fiction-Dystopia/3,918|Fantasy/3,207|Literature/2,798|Politics/2,664|Academic-School/2,459|Science Fiction/2,021|Novels/1,762|Academic-Read For School/1,051'"
            ]
          },
          "execution_count": 16,
          "metadata": {},
          "output_type": "execute_result"
        }
      ],
      "source": [
        "bdfc['bookGenres'].iloc[3]"
      ]
    },
    {
      "cell_type": "code",
      "execution_count": 17,
      "metadata": {
        "colab": {
          "base_uri": "https://localhost:8080/",
          "height": 146
        },
        "id": "TPkRmxGjEny4",
        "outputId": "34c53e6a-de5c-4c8c-e203-8489fb845ca9"
      },
      "outputs": [
        {
          "data": {
            "text/html": [
              "<div>\n",
              "<style scoped>\n",
              "    .dataframe tbody tr th:only-of-type {\n",
              "        vertical-align: middle;\n",
              "    }\n",
              "\n",
              "    .dataframe tbody tr th {\n",
              "        vertical-align: top;\n",
              "    }\n",
              "\n",
              "    .dataframe thead th {\n",
              "        text-align: right;\n",
              "    }\n",
              "</style>\n",
              "<table border=\"1\" class=\"dataframe\">\n",
              "  <thead>\n",
              "    <tr style=\"text-align: right;\">\n",
              "      <th></th>\n",
              "      <th>bookISBN</th>\n",
              "      <th>bookTitle</th>\n",
              "      <th>bookAuthors</th>\n",
              "      <th>bookDesc</th>\n",
              "      <th>bookGenres</th>\n",
              "    </tr>\n",
              "  </thead>\n",
              "  <tbody>\n",
              "    <tr>\n",
              "      <th>0</th>\n",
              "      <td>9.780439e+12</td>\n",
              "      <td>The Hunger Games</td>\n",
              "      <td>Suzanne Collins</td>\n",
              "      <td>Could you survive on your own in the wild, wit...</td>\n",
              "      <td>Young Adult/31,498|Fiction/17,878|Science Fict...</td>\n",
              "    </tr>\n",
              "    <tr>\n",
              "      <th>1</th>\n",
              "      <td>9.780316e+12</td>\n",
              "      <td>Twilight</td>\n",
              "      <td>Stephenie Meyer</td>\n",
              "      <td>About three things I was absolutely positive.F...</td>\n",
              "      <td>Young Adult/19,982|Fantasy/19,312|Romance/12,0...</td>\n",
              "    </tr>\n",
              "  </tbody>\n",
              "</table>\n",
              "</div>"
            ],
            "text/plain": [
              "       bookISBN         bookTitle      bookAuthors  \\\n",
              "0  9.780439e+12  The Hunger Games  Suzanne Collins   \n",
              "1  9.780316e+12          Twilight  Stephenie Meyer   \n",
              "\n",
              "                                            bookDesc  \\\n",
              "0  Could you survive on your own in the wild, wit...   \n",
              "1  About three things I was absolutely positive.F...   \n",
              "\n",
              "                                          bookGenres  \n",
              "0  Young Adult/31,498|Fiction/17,878|Science Fict...  \n",
              "1  Young Adult/19,982|Fantasy/19,312|Romance/12,0...  "
            ]
          },
          "execution_count": 17,
          "metadata": {},
          "output_type": "execute_result"
        }
      ],
      "source": [
        "bdfc.head(2)"
      ]
    },
    {
      "cell_type": "code",
      "execution_count": 18,
      "metadata": {
        "colab": {
          "base_uri": "https://localhost:8080/",
          "height": 305
        },
        "id": "yKadrmZcFsLB",
        "outputId": "31f29541-b868-471b-c679-928283977daa"
      },
      "outputs": [
        {
          "data": {
            "text/html": [
              "<div>\n",
              "<style scoped>\n",
              "    .dataframe tbody tr th:only-of-type {\n",
              "        vertical-align: middle;\n",
              "    }\n",
              "\n",
              "    .dataframe tbody tr th {\n",
              "        vertical-align: top;\n",
              "    }\n",
              "\n",
              "    .dataframe thead th {\n",
              "        text-align: right;\n",
              "    }\n",
              "</style>\n",
              "<table border=\"1\" class=\"dataframe\">\n",
              "  <thead>\n",
              "    <tr style=\"text-align: right;\">\n",
              "      <th></th>\n",
              "      <th>bookISBN</th>\n",
              "      <th>bookTitle</th>\n",
              "      <th>bookAuthors</th>\n",
              "      <th>bookDesc</th>\n",
              "      <th>bookGenres</th>\n",
              "      <th>FirstThreeGenres</th>\n",
              "    </tr>\n",
              "  </thead>\n",
              "  <tbody>\n",
              "    <tr>\n",
              "      <th>0</th>\n",
              "      <td>9.780439e+12</td>\n",
              "      <td>The Hunger Games</td>\n",
              "      <td>Suzanne Collins</td>\n",
              "      <td>Could you survive on your own in the wild, wit...</td>\n",
              "      <td>Young Adult/31,498|Fiction/17,878|Science Fict...</td>\n",
              "      <td>Young Adult/31,498|Fiction/17,878|Science Fict...</td>\n",
              "    </tr>\n",
              "    <tr>\n",
              "      <th>1</th>\n",
              "      <td>9.780316e+12</td>\n",
              "      <td>Twilight</td>\n",
              "      <td>Stephenie Meyer</td>\n",
              "      <td>About three things I was absolutely positive.F...</td>\n",
              "      <td>Young Adult/19,982|Fantasy/19,312|Romance/12,0...</td>\n",
              "      <td>Young Adult/19,982|Fantasy/19,312|Romance/12,011</td>\n",
              "    </tr>\n",
              "  </tbody>\n",
              "</table>\n",
              "</div>"
            ],
            "text/plain": [
              "       bookISBN         bookTitle      bookAuthors  \\\n",
              "0  9.780439e+12  The Hunger Games  Suzanne Collins   \n",
              "1  9.780316e+12          Twilight  Stephenie Meyer   \n",
              "\n",
              "                                            bookDesc  \\\n",
              "0  Could you survive on your own in the wild, wit...   \n",
              "1  About three things I was absolutely positive.F...   \n",
              "\n",
              "                                          bookGenres  \\\n",
              "0  Young Adult/31,498|Fiction/17,878|Science Fict...   \n",
              "1  Young Adult/19,982|Fantasy/19,312|Romance/12,0...   \n",
              "\n",
              "                                    FirstThreeGenres  \n",
              "0  Young Adult/31,498|Fiction/17,878|Science Fict...  \n",
              "1   Young Adult/19,982|Fantasy/19,312|Romance/12,011  "
            ]
          },
          "execution_count": 18,
          "metadata": {},
          "output_type": "execute_result"
        }
      ],
      "source": [
        "# Function to extract the first three genres from a string\n",
        "def extract_first_three_genres(genres_string):\n",
        "    if isinstance(genres_string, float):\n",
        "        return ''  # Return an empty string for float values\n",
        "    \n",
        "    genres_list = genres_string.split('|')[:3]\n",
        "    return '|'.join(genres_list)\n",
        "\n",
        "# Apply the function to the 'bookGenres' column\n",
        "bdfc['FirstThreeGenres'] = bdfc['bookGenres'].apply(extract_first_three_genres)\n",
        "\n",
        "# Display the modified DataFrame\n",
        "bdfc.head(2)"
      ]
    },
    {
      "cell_type": "code",
      "execution_count": 19,
      "metadata": {},
      "outputs": [
        {
          "data": {
            "text/plain": [
              "'Classics/34,158|Fiction/19,552|Science Fiction-Dystopia/3,918'"
            ]
          },
          "execution_count": 19,
          "metadata": {},
          "output_type": "execute_result"
        }
      ],
      "source": [
        "bdfc['FirstThreeGenres'].loc[3]"
      ]
    },
    {
      "cell_type": "code",
      "execution_count": 20,
      "metadata": {
        "id": "L7qqVuuCGQlo"
      },
      "outputs": [
        {
          "data": {
            "text/html": [
              "<div>\n",
              "<style scoped>\n",
              "    .dataframe tbody tr th:only-of-type {\n",
              "        vertical-align: middle;\n",
              "    }\n",
              "\n",
              "    .dataframe tbody tr th {\n",
              "        vertical-align: top;\n",
              "    }\n",
              "\n",
              "    .dataframe thead th {\n",
              "        text-align: right;\n",
              "    }\n",
              "</style>\n",
              "<table border=\"1\" class=\"dataframe\">\n",
              "  <thead>\n",
              "    <tr style=\"text-align: right;\">\n",
              "      <th></th>\n",
              "      <th>bookISBN</th>\n",
              "      <th>bookTitle</th>\n",
              "      <th>bookAuthors</th>\n",
              "      <th>bookDesc</th>\n",
              "      <th>bookGenres</th>\n",
              "      <th>FirstThreeGenres</th>\n",
              "      <th>FirstThreeGenreNames</th>\n",
              "    </tr>\n",
              "  </thead>\n",
              "  <tbody>\n",
              "    <tr>\n",
              "      <th>0</th>\n",
              "      <td>9.780439e+12</td>\n",
              "      <td>The Hunger Games</td>\n",
              "      <td>Suzanne Collins</td>\n",
              "      <td>Could you survive on your own in the wild, wit...</td>\n",
              "      <td>Young Adult/31,498|Fiction/17,878|Science Fict...</td>\n",
              "      <td>Young Adult/31,498|Fiction/17,878|Science Fict...</td>\n",
              "      <td>Young Adult, Fiction, Science Fiction-Dystopia</td>\n",
              "    </tr>\n",
              "    <tr>\n",
              "      <th>1</th>\n",
              "      <td>9.780316e+12</td>\n",
              "      <td>Twilight</td>\n",
              "      <td>Stephenie Meyer</td>\n",
              "      <td>About three things I was absolutely positive.F...</td>\n",
              "      <td>Young Adult/19,982|Fantasy/19,312|Romance/12,0...</td>\n",
              "      <td>Young Adult/19,982|Fantasy/19,312|Romance/12,011</td>\n",
              "      <td>Young Adult, Fantasy, Romance</td>\n",
              "    </tr>\n",
              "  </tbody>\n",
              "</table>\n",
              "</div>"
            ],
            "text/plain": [
              "       bookISBN         bookTitle      bookAuthors  \\\n",
              "0  9.780439e+12  The Hunger Games  Suzanne Collins   \n",
              "1  9.780316e+12          Twilight  Stephenie Meyer   \n",
              "\n",
              "                                            bookDesc  \\\n",
              "0  Could you survive on your own in the wild, wit...   \n",
              "1  About three things I was absolutely positive.F...   \n",
              "\n",
              "                                          bookGenres  \\\n",
              "0  Young Adult/31,498|Fiction/17,878|Science Fict...   \n",
              "1  Young Adult/19,982|Fantasy/19,312|Romance/12,0...   \n",
              "\n",
              "                                    FirstThreeGenres  \\\n",
              "0  Young Adult/31,498|Fiction/17,878|Science Fict...   \n",
              "1   Young Adult/19,982|Fantasy/19,312|Romance/12,011   \n",
              "\n",
              "                             FirstThreeGenreNames  \n",
              "0  Young Adult, Fiction, Science Fiction-Dystopia  \n",
              "1                   Young Adult, Fantasy, Romance  "
            ]
          },
          "execution_count": 20,
          "metadata": {},
          "output_type": "execute_result"
        }
      ],
      "source": [
        "# Function to extract only the genre names from the first three genres\n",
        "def extract_first_three_genre_names(genres_string):\n",
        "    if isinstance(genres_string, float):\n",
        "        return ''  # Return an empty string for float values\n",
        "    \n",
        "    genres_list = genres_string.split('|')[:3]\n",
        "    genre_names = [genre.split('/')[0] for genre in genres_list]\n",
        "    \n",
        "    return ', '.join(genre_names)\n",
        "\n",
        "# Apply the function to the 'bookGenres' column\n",
        "bdfc['FirstThreeGenreNames'] = bdfc['bookGenres'].apply(extract_first_three_genre_names)\n",
        "\n",
        "# Display the modified DataFrame\n",
        "bdfc.head(2)\n"
      ]
    },
    {
      "cell_type": "code",
      "execution_count": 21,
      "metadata": {
        "colab": {
          "base_uri": "https://localhost:8080/"
        },
        "id": "hJSKfE876wtk",
        "outputId": "36741eee-0135-4dc2-8767-6317daa7d55f"
      },
      "outputs": [],
      "source": [
        "# Remove spaces from bookAuthors and bookGenres columns\n",
        "bdfc['bookAuthors'] = bdfc['bookAuthors'].str.replace(' ', '')"
      ]
    },
    {
      "cell_type": "code",
      "execution_count": 22,
      "metadata": {},
      "outputs": [],
      "source": [
        "bdfc['ClnGenres'] = bdfc['FirstThreeGenreNames'].apply(\n",
        "    lambda x: ', '.join([genre.split('/')[0].replace(' ', '') for genre in x.split('|')[:3]]) if not isinstance(x, float) else ''\n",
        ")"
      ]
    },
    {
      "cell_type": "code",
      "execution_count": 23,
      "metadata": {},
      "outputs": [],
      "source": [
        "bdfc.drop(['FirstThreeGenreNames','FirstThreeGenres','bookGenres'],axis=1,inplace=True)"
      ]
    },
    {
      "cell_type": "code",
      "execution_count": 24,
      "metadata": {},
      "outputs": [
        {
          "data": {
            "text/html": [
              "<div>\n",
              "<style scoped>\n",
              "    .dataframe tbody tr th:only-of-type {\n",
              "        vertical-align: middle;\n",
              "    }\n",
              "\n",
              "    .dataframe tbody tr th {\n",
              "        vertical-align: top;\n",
              "    }\n",
              "\n",
              "    .dataframe thead th {\n",
              "        text-align: right;\n",
              "    }\n",
              "</style>\n",
              "<table border=\"1\" class=\"dataframe\">\n",
              "  <thead>\n",
              "    <tr style=\"text-align: right;\">\n",
              "      <th></th>\n",
              "      <th>bookISBN</th>\n",
              "      <th>bookTitle</th>\n",
              "      <th>bookAuthors</th>\n",
              "      <th>bookDesc</th>\n",
              "      <th>ClnGenres</th>\n",
              "    </tr>\n",
              "  </thead>\n",
              "  <tbody>\n",
              "    <tr>\n",
              "      <th>0</th>\n",
              "      <td>9.780439e+12</td>\n",
              "      <td>The Hunger Games</td>\n",
              "      <td>SuzanneCollins</td>\n",
              "      <td>Could you survive on your own in the wild, wit...</td>\n",
              "      <td>YoungAdult,Fiction,ScienceFiction-Dystopia</td>\n",
              "    </tr>\n",
              "    <tr>\n",
              "      <th>1</th>\n",
              "      <td>9.780316e+12</td>\n",
              "      <td>Twilight</td>\n",
              "      <td>StephenieMeyer</td>\n",
              "      <td>About three things I was absolutely positive.F...</td>\n",
              "      <td>YoungAdult,Fantasy,Romance</td>\n",
              "    </tr>\n",
              "    <tr>\n",
              "      <th>2</th>\n",
              "      <td>9.780376e+12</td>\n",
              "      <td>The Book Thief</td>\n",
              "      <td>MarkusZusak</td>\n",
              "      <td>Librarian's note: An alternate cover edition c...</td>\n",
              "      <td>Historical-HistoricalFiction,Fiction,YoungAdult</td>\n",
              "    </tr>\n",
              "    <tr>\n",
              "      <th>3</th>\n",
              "      <td>9.780452e+12</td>\n",
              "      <td>Animal Farm</td>\n",
              "      <td>GeorgeOrwell,BorisGrabnar,CelâlÜster,CelâlÜstü...</td>\n",
              "      <td>George Orwell's timeless and timely allegorica...</td>\n",
              "      <td>Classics,Fiction,ScienceFiction-Dystopia</td>\n",
              "    </tr>\n",
              "    <tr>\n",
              "      <th>4</th>\n",
              "      <td>9.780066e+12</td>\n",
              "      <td>The Chronicles of Narnia</td>\n",
              "      <td>C.S.Lewis,PaulineBaynes</td>\n",
              "      <td>Librarian note: An alternate cover for this ed...</td>\n",
              "      <td>Fantasy,Classics,Fiction</td>\n",
              "    </tr>\n",
              "  </tbody>\n",
              "</table>\n",
              "</div>"
            ],
            "text/plain": [
              "       bookISBN                 bookTitle  \\\n",
              "0  9.780439e+12          The Hunger Games   \n",
              "1  9.780316e+12                  Twilight   \n",
              "2  9.780376e+12            The Book Thief   \n",
              "3  9.780452e+12               Animal Farm   \n",
              "4  9.780066e+12  The Chronicles of Narnia   \n",
              "\n",
              "                                         bookAuthors  \\\n",
              "0                                     SuzanneCollins   \n",
              "1                                     StephenieMeyer   \n",
              "2                                        MarkusZusak   \n",
              "3  GeorgeOrwell,BorisGrabnar,CelâlÜster,CelâlÜstü...   \n",
              "4                            C.S.Lewis,PaulineBaynes   \n",
              "\n",
              "                                            bookDesc  \\\n",
              "0  Could you survive on your own in the wild, wit...   \n",
              "1  About three things I was absolutely positive.F...   \n",
              "2  Librarian's note: An alternate cover edition c...   \n",
              "3  George Orwell's timeless and timely allegorica...   \n",
              "4  Librarian note: An alternate cover for this ed...   \n",
              "\n",
              "                                         ClnGenres  \n",
              "0       YoungAdult,Fiction,ScienceFiction-Dystopia  \n",
              "1                       YoungAdult,Fantasy,Romance  \n",
              "2  Historical-HistoricalFiction,Fiction,YoungAdult  \n",
              "3         Classics,Fiction,ScienceFiction-Dystopia  \n",
              "4                         Fantasy,Classics,Fiction  "
            ]
          },
          "execution_count": 24,
          "metadata": {},
          "output_type": "execute_result"
        }
      ],
      "source": [
        "bdfc.head(5)"
      ]
    },
    {
      "cell_type": "code",
      "execution_count": 25,
      "metadata": {
        "colab": {
          "base_uri": "https://localhost:8080/"
        },
        "id": "UimSpaqD8cHL",
        "outputId": "8a9b280b-5973-479f-fcd1-a7daf57123ad"
      },
      "outputs": [],
      "source": [
        "# Extract the part before the first comma in 'bookAuthors'\n",
        "bdfc['CleanedAuthors'] = bdfc['bookAuthors'].str.split(',').str[0]"
      ]
    },
    {
      "cell_type": "code",
      "execution_count": 26,
      "metadata": {
        "colab": {
          "base_uri": "https://localhost:8080/",
          "height": 590
        },
        "id": "_dLfP3_a8yyn",
        "outputId": "2fa26523-4c42-4b1e-e955-cca5491619db"
      },
      "outputs": [
        {
          "data": {
            "text/html": [
              "<div>\n",
              "<style scoped>\n",
              "    .dataframe tbody tr th:only-of-type {\n",
              "        vertical-align: middle;\n",
              "    }\n",
              "\n",
              "    .dataframe tbody tr th {\n",
              "        vertical-align: top;\n",
              "    }\n",
              "\n",
              "    .dataframe thead th {\n",
              "        text-align: right;\n",
              "    }\n",
              "</style>\n",
              "<table border=\"1\" class=\"dataframe\">\n",
              "  <thead>\n",
              "    <tr style=\"text-align: right;\">\n",
              "      <th></th>\n",
              "      <th>bookISBN</th>\n",
              "      <th>bookTitle</th>\n",
              "      <th>bookAuthors</th>\n",
              "      <th>bookDesc</th>\n",
              "      <th>ClnGenres</th>\n",
              "      <th>CleanedAuthors</th>\n",
              "    </tr>\n",
              "  </thead>\n",
              "  <tbody>\n",
              "    <tr>\n",
              "      <th>0</th>\n",
              "      <td>9.780439e+12</td>\n",
              "      <td>The Hunger Games</td>\n",
              "      <td>SuzanneCollins</td>\n",
              "      <td>Could you survive on your own in the wild, wit...</td>\n",
              "      <td>YoungAdult,Fiction,ScienceFiction-Dystopia</td>\n",
              "      <td>SuzanneCollins</td>\n",
              "    </tr>\n",
              "    <tr>\n",
              "      <th>1</th>\n",
              "      <td>9.780316e+12</td>\n",
              "      <td>Twilight</td>\n",
              "      <td>StephenieMeyer</td>\n",
              "      <td>About three things I was absolutely positive.F...</td>\n",
              "      <td>YoungAdult,Fantasy,Romance</td>\n",
              "      <td>StephenieMeyer</td>\n",
              "    </tr>\n",
              "    <tr>\n",
              "      <th>2</th>\n",
              "      <td>9.780376e+12</td>\n",
              "      <td>The Book Thief</td>\n",
              "      <td>MarkusZusak</td>\n",
              "      <td>Librarian's note: An alternate cover edition c...</td>\n",
              "      <td>Historical-HistoricalFiction,Fiction,YoungAdult</td>\n",
              "      <td>MarkusZusak</td>\n",
              "    </tr>\n",
              "    <tr>\n",
              "      <th>3</th>\n",
              "      <td>9.780452e+12</td>\n",
              "      <td>Animal Farm</td>\n",
              "      <td>GeorgeOrwell,BorisGrabnar,CelâlÜster,CelâlÜstü...</td>\n",
              "      <td>George Orwell's timeless and timely allegorica...</td>\n",
              "      <td>Classics,Fiction,ScienceFiction-Dystopia</td>\n",
              "      <td>GeorgeOrwell</td>\n",
              "    </tr>\n",
              "    <tr>\n",
              "      <th>4</th>\n",
              "      <td>9.780066e+12</td>\n",
              "      <td>The Chronicles of Narnia</td>\n",
              "      <td>C.S.Lewis,PaulineBaynes</td>\n",
              "      <td>Librarian note: An alternate cover for this ed...</td>\n",
              "      <td>Fantasy,Classics,Fiction</td>\n",
              "      <td>C.S.Lewis</td>\n",
              "    </tr>\n",
              "  </tbody>\n",
              "</table>\n",
              "</div>"
            ],
            "text/plain": [
              "       bookISBN                 bookTitle  \\\n",
              "0  9.780439e+12          The Hunger Games   \n",
              "1  9.780316e+12                  Twilight   \n",
              "2  9.780376e+12            The Book Thief   \n",
              "3  9.780452e+12               Animal Farm   \n",
              "4  9.780066e+12  The Chronicles of Narnia   \n",
              "\n",
              "                                         bookAuthors  \\\n",
              "0                                     SuzanneCollins   \n",
              "1                                     StephenieMeyer   \n",
              "2                                        MarkusZusak   \n",
              "3  GeorgeOrwell,BorisGrabnar,CelâlÜster,CelâlÜstü...   \n",
              "4                            C.S.Lewis,PaulineBaynes   \n",
              "\n",
              "                                            bookDesc  \\\n",
              "0  Could you survive on your own in the wild, wit...   \n",
              "1  About three things I was absolutely positive.F...   \n",
              "2  Librarian's note: An alternate cover edition c...   \n",
              "3  George Orwell's timeless and timely allegorica...   \n",
              "4  Librarian note: An alternate cover for this ed...   \n",
              "\n",
              "                                         ClnGenres  CleanedAuthors  \n",
              "0       YoungAdult,Fiction,ScienceFiction-Dystopia  SuzanneCollins  \n",
              "1                       YoungAdult,Fantasy,Romance  StephenieMeyer  \n",
              "2  Historical-HistoricalFiction,Fiction,YoungAdult     MarkusZusak  \n",
              "3         Classics,Fiction,ScienceFiction-Dystopia    GeorgeOrwell  \n",
              "4                         Fantasy,Classics,Fiction       C.S.Lewis  "
            ]
          },
          "execution_count": 26,
          "metadata": {},
          "output_type": "execute_result"
        }
      ],
      "source": [
        "bdfc.head()"
      ]
    },
    {
      "cell_type": "code",
      "execution_count": 27,
      "metadata": {
        "colab": {
          "base_uri": "https://localhost:8080/"
        },
        "id": "JfxW9UIE9DJz",
        "outputId": "14d188b3-1501-4aa8-de21-f26ca2336164"
      },
      "outputs": [],
      "source": [
        "bdfc.drop(['bookAuthors'],axis=1,inplace=True)"
      ]
    },
    {
      "cell_type": "code",
      "execution_count": 28,
      "metadata": {
        "colab": {
          "base_uri": "https://localhost:8080/",
          "height": 293
        },
        "id": "TBf9c5cs9XLQ",
        "outputId": "ff5be7bd-fc08-4847-ecdd-e18c344acd95"
      },
      "outputs": [
        {
          "data": {
            "text/html": [
              "<div>\n",
              "<style scoped>\n",
              "    .dataframe tbody tr th:only-of-type {\n",
              "        vertical-align: middle;\n",
              "    }\n",
              "\n",
              "    .dataframe tbody tr th {\n",
              "        vertical-align: top;\n",
              "    }\n",
              "\n",
              "    .dataframe thead th {\n",
              "        text-align: right;\n",
              "    }\n",
              "</style>\n",
              "<table border=\"1\" class=\"dataframe\">\n",
              "  <thead>\n",
              "    <tr style=\"text-align: right;\">\n",
              "      <th></th>\n",
              "      <th>bookISBN</th>\n",
              "      <th>bookTitle</th>\n",
              "      <th>bookDesc</th>\n",
              "      <th>ClnGenres</th>\n",
              "      <th>CleanedAuthors</th>\n",
              "    </tr>\n",
              "  </thead>\n",
              "  <tbody>\n",
              "    <tr>\n",
              "      <th>0</th>\n",
              "      <td>9.780439e+12</td>\n",
              "      <td>The Hunger Games</td>\n",
              "      <td>Could you survive on your own in the wild, wit...</td>\n",
              "      <td>YoungAdult,Fiction,ScienceFiction-Dystopia</td>\n",
              "      <td>SuzanneCollins</td>\n",
              "    </tr>\n",
              "    <tr>\n",
              "      <th>1</th>\n",
              "      <td>9.780316e+12</td>\n",
              "      <td>Twilight</td>\n",
              "      <td>About three things I was absolutely positive.F...</td>\n",
              "      <td>YoungAdult,Fantasy,Romance</td>\n",
              "      <td>StephenieMeyer</td>\n",
              "    </tr>\n",
              "    <tr>\n",
              "      <th>2</th>\n",
              "      <td>9.780376e+12</td>\n",
              "      <td>The Book Thief</td>\n",
              "      <td>Librarian's note: An alternate cover edition c...</td>\n",
              "      <td>Historical-HistoricalFiction,Fiction,YoungAdult</td>\n",
              "      <td>MarkusZusak</td>\n",
              "    </tr>\n",
              "    <tr>\n",
              "      <th>3</th>\n",
              "      <td>9.780452e+12</td>\n",
              "      <td>Animal Farm</td>\n",
              "      <td>George Orwell's timeless and timely allegorica...</td>\n",
              "      <td>Classics,Fiction,ScienceFiction-Dystopia</td>\n",
              "      <td>GeorgeOrwell</td>\n",
              "    </tr>\n",
              "    <tr>\n",
              "      <th>4</th>\n",
              "      <td>9.780066e+12</td>\n",
              "      <td>The Chronicles of Narnia</td>\n",
              "      <td>Librarian note: An alternate cover for this ed...</td>\n",
              "      <td>Fantasy,Classics,Fiction</td>\n",
              "      <td>C.S.Lewis</td>\n",
              "    </tr>\n",
              "  </tbody>\n",
              "</table>\n",
              "</div>"
            ],
            "text/plain": [
              "       bookISBN                 bookTitle  \\\n",
              "0  9.780439e+12          The Hunger Games   \n",
              "1  9.780316e+12                  Twilight   \n",
              "2  9.780376e+12            The Book Thief   \n",
              "3  9.780452e+12               Animal Farm   \n",
              "4  9.780066e+12  The Chronicles of Narnia   \n",
              "\n",
              "                                            bookDesc  \\\n",
              "0  Could you survive on your own in the wild, wit...   \n",
              "1  About three things I was absolutely positive.F...   \n",
              "2  Librarian's note: An alternate cover edition c...   \n",
              "3  George Orwell's timeless and timely allegorica...   \n",
              "4  Librarian note: An alternate cover for this ed...   \n",
              "\n",
              "                                         ClnGenres  CleanedAuthors  \n",
              "0       YoungAdult,Fiction,ScienceFiction-Dystopia  SuzanneCollins  \n",
              "1                       YoungAdult,Fantasy,Romance  StephenieMeyer  \n",
              "2  Historical-HistoricalFiction,Fiction,YoungAdult     MarkusZusak  \n",
              "3         Classics,Fiction,ScienceFiction-Dystopia    GeorgeOrwell  \n",
              "4                         Fantasy,Classics,Fiction       C.S.Lewis  "
            ]
          },
          "execution_count": 28,
          "metadata": {},
          "output_type": "execute_result"
        }
      ],
      "source": [
        "bdfc.head()"
      ]
    },
    {
      "cell_type": "code",
      "execution_count": 29,
      "metadata": {
        "colab": {
          "base_uri": "https://localhost:8080/"
        },
        "id": "1XIdYrtF-K2L",
        "outputId": "f926bf0c-27a2-4ecd-c00f-dc32a2578827"
      },
      "outputs": [
        {
          "data": {
            "text/html": [
              "<div>\n",
              "<style scoped>\n",
              "    .dataframe tbody tr th:only-of-type {\n",
              "        vertical-align: middle;\n",
              "    }\n",
              "\n",
              "    .dataframe tbody tr th {\n",
              "        vertical-align: top;\n",
              "    }\n",
              "\n",
              "    .dataframe thead th {\n",
              "        text-align: right;\n",
              "    }\n",
              "</style>\n",
              "<table border=\"1\" class=\"dataframe\">\n",
              "  <thead>\n",
              "    <tr style=\"text-align: right;\">\n",
              "      <th></th>\n",
              "      <th>bookISBN</th>\n",
              "      <th>bookTitle</th>\n",
              "      <th>bookDesc</th>\n",
              "      <th>ClnGenres</th>\n",
              "      <th>CleanedAuthors</th>\n",
              "      <th>Desc</th>\n",
              "    </tr>\n",
              "  </thead>\n",
              "  <tbody>\n",
              "    <tr>\n",
              "      <th>0</th>\n",
              "      <td>9.780439e+12</td>\n",
              "      <td>The Hunger Games</td>\n",
              "      <td>Could you survive on your own in the wild, wit...</td>\n",
              "      <td>YoungAdult,Fiction,ScienceFiction-Dystopia</td>\n",
              "      <td>SuzanneCollins</td>\n",
              "      <td>[Could, you, survive, on, your, own, in, the, ...</td>\n",
              "    </tr>\n",
              "    <tr>\n",
              "      <th>1</th>\n",
              "      <td>9.780316e+12</td>\n",
              "      <td>Twilight</td>\n",
              "      <td>About three things I was absolutely positive.F...</td>\n",
              "      <td>YoungAdult,Fantasy,Romance</td>\n",
              "      <td>StephenieMeyer</td>\n",
              "      <td>[About, three, things, I, was, absolutely, pos...</td>\n",
              "    </tr>\n",
              "    <tr>\n",
              "      <th>2</th>\n",
              "      <td>9.780376e+12</td>\n",
              "      <td>The Book Thief</td>\n",
              "      <td>Librarian's note: An alternate cover edition c...</td>\n",
              "      <td>Historical-HistoricalFiction,Fiction,YoungAdult</td>\n",
              "      <td>MarkusZusak</td>\n",
              "      <td>[Librarian's, note:, An, alternate, cover, edi...</td>\n",
              "    </tr>\n",
              "    <tr>\n",
              "      <th>3</th>\n",
              "      <td>9.780452e+12</td>\n",
              "      <td>Animal Farm</td>\n",
              "      <td>George Orwell's timeless and timely allegorica...</td>\n",
              "      <td>Classics,Fiction,ScienceFiction-Dystopia</td>\n",
              "      <td>GeorgeOrwell</td>\n",
              "      <td>[George, Orwell's, timeless, and, timely, alle...</td>\n",
              "    </tr>\n",
              "    <tr>\n",
              "      <th>4</th>\n",
              "      <td>9.780066e+12</td>\n",
              "      <td>The Chronicles of Narnia</td>\n",
              "      <td>Librarian note: An alternate cover for this ed...</td>\n",
              "      <td>Fantasy,Classics,Fiction</td>\n",
              "      <td>C.S.Lewis</td>\n",
              "      <td>[Librarian, note:, An, alternate, cover, for, ...</td>\n",
              "    </tr>\n",
              "  </tbody>\n",
              "</table>\n",
              "</div>"
            ],
            "text/plain": [
              "       bookISBN                 bookTitle  \\\n",
              "0  9.780439e+12          The Hunger Games   \n",
              "1  9.780316e+12                  Twilight   \n",
              "2  9.780376e+12            The Book Thief   \n",
              "3  9.780452e+12               Animal Farm   \n",
              "4  9.780066e+12  The Chronicles of Narnia   \n",
              "\n",
              "                                            bookDesc  \\\n",
              "0  Could you survive on your own in the wild, wit...   \n",
              "1  About three things I was absolutely positive.F...   \n",
              "2  Librarian's note: An alternate cover edition c...   \n",
              "3  George Orwell's timeless and timely allegorica...   \n",
              "4  Librarian note: An alternate cover for this ed...   \n",
              "\n",
              "                                         ClnGenres  CleanedAuthors  \\\n",
              "0       YoungAdult,Fiction,ScienceFiction-Dystopia  SuzanneCollins   \n",
              "1                       YoungAdult,Fantasy,Romance  StephenieMeyer   \n",
              "2  Historical-HistoricalFiction,Fiction,YoungAdult     MarkusZusak   \n",
              "3         Classics,Fiction,ScienceFiction-Dystopia    GeorgeOrwell   \n",
              "4                         Fantasy,Classics,Fiction       C.S.Lewis   \n",
              "\n",
              "                                                Desc  \n",
              "0  [Could, you, survive, on, your, own, in, the, ...  \n",
              "1  [About, three, things, I, was, absolutely, pos...  \n",
              "2  [Librarian's, note:, An, alternate, cover, edi...  \n",
              "3  [George, Orwell's, timeless, and, timely, alle...  \n",
              "4  [Librarian, note:, An, alternate, cover, for, ...  "
            ]
          },
          "execution_count": 29,
          "metadata": {},
          "output_type": "execute_result"
        }
      ],
      "source": [
        "\n",
        "bdfc['Desc'] = bdfc['bookDesc'].apply(lambda x: x.split() if isinstance(x, str) else [])\n",
        "\n",
        "\n",
        "# Display the modified DataFrame\n",
        "bdfc.head()\n"
      ]
    },
    {
      "cell_type": "code",
      "execution_count": 30,
      "metadata": {
        "colab": {
          "base_uri": "https://localhost:8080/"
        },
        "id": "7M9Ojat6_FsW",
        "outputId": "d104077e-e72e-461a-b9ea-33426f263165"
      },
      "outputs": [],
      "source": [
        "bdfc['Author']=bdfc['CleanedAuthors'].apply(lambda x: [x])"
      ]
    },
    {
      "cell_type": "code",
      "execution_count": 31,
      "metadata": {
        "colab": {
          "base_uri": "https://localhost:8080/"
        },
        "id": "658l1LpP_tL8",
        "outputId": "f35fa6f5-57e7-492d-ef0c-5b190152dc3d"
      },
      "outputs": [],
      "source": [
        "bdfc.drop(['CleanedAuthors','bookDesc'],axis=1,inplace=True)"
      ]
    },
    {
      "cell_type": "code",
      "execution_count": 32,
      "metadata": {},
      "outputs": [],
      "source": [
        "bdfc['ClGenres']=bdfc['ClnGenres'].apply(lambda x: [x])"
      ]
    },
    {
      "cell_type": "code",
      "execution_count": 33,
      "metadata": {
        "colab": {
          "base_uri": "https://localhost:8080/",
          "height": 146
        },
        "id": "tvxFlgda_2SJ",
        "outputId": "090fdc1d-74dd-4d3a-bb6b-b1eba3b6ac6f"
      },
      "outputs": [
        {
          "data": {
            "text/html": [
              "<div>\n",
              "<style scoped>\n",
              "    .dataframe tbody tr th:only-of-type {\n",
              "        vertical-align: middle;\n",
              "    }\n",
              "\n",
              "    .dataframe tbody tr th {\n",
              "        vertical-align: top;\n",
              "    }\n",
              "\n",
              "    .dataframe thead th {\n",
              "        text-align: right;\n",
              "    }\n",
              "</style>\n",
              "<table border=\"1\" class=\"dataframe\">\n",
              "  <thead>\n",
              "    <tr style=\"text-align: right;\">\n",
              "      <th></th>\n",
              "      <th>bookISBN</th>\n",
              "      <th>bookTitle</th>\n",
              "      <th>Desc</th>\n",
              "      <th>Author</th>\n",
              "      <th>ClGenres</th>\n",
              "    </tr>\n",
              "  </thead>\n",
              "  <tbody>\n",
              "    <tr>\n",
              "      <th>0</th>\n",
              "      <td>9.780439e+12</td>\n",
              "      <td>The Hunger Games</td>\n",
              "      <td>[Could, you, survive, on, your, own, in, the, ...</td>\n",
              "      <td>[SuzanneCollins]</td>\n",
              "      <td>[YoungAdult,Fiction,ScienceFiction-Dystopia]</td>\n",
              "    </tr>\n",
              "    <tr>\n",
              "      <th>1</th>\n",
              "      <td>9.780316e+12</td>\n",
              "      <td>Twilight</td>\n",
              "      <td>[About, three, things, I, was, absolutely, pos...</td>\n",
              "      <td>[StephenieMeyer]</td>\n",
              "      <td>[YoungAdult,Fantasy,Romance]</td>\n",
              "    </tr>\n",
              "  </tbody>\n",
              "</table>\n",
              "</div>"
            ],
            "text/plain": [
              "       bookISBN         bookTitle  \\\n",
              "0  9.780439e+12  The Hunger Games   \n",
              "1  9.780316e+12          Twilight   \n",
              "\n",
              "                                                Desc            Author  \\\n",
              "0  [Could, you, survive, on, your, own, in, the, ...  [SuzanneCollins]   \n",
              "1  [About, three, things, I, was, absolutely, pos...  [StephenieMeyer]   \n",
              "\n",
              "                                       ClGenres  \n",
              "0  [YoungAdult,Fiction,ScienceFiction-Dystopia]  \n",
              "1                  [YoungAdult,Fantasy,Romance]  "
            ]
          },
          "execution_count": 33,
          "metadata": {},
          "output_type": "execute_result"
        }
      ],
      "source": [
        "bdfc.drop('ClnGenres',axis=1,inplace=True)\n",
        "bdfc.head(2)\n"
      ]
    },
    {
      "cell_type": "code",
      "execution_count": 34,
      "metadata": {
        "colab": {
          "base_uri": "https://localhost:8080/",
          "height": 608
        },
        "id": "200KsOBRAq1R",
        "outputId": "cca20499-5f8b-4b03-c0d5-786986ecfda8"
      },
      "outputs": [
        {
          "data": {
            "text/html": [
              "<div>\n",
              "<style scoped>\n",
              "    .dataframe tbody tr th:only-of-type {\n",
              "        vertical-align: middle;\n",
              "    }\n",
              "\n",
              "    .dataframe tbody tr th {\n",
              "        vertical-align: top;\n",
              "    }\n",
              "\n",
              "    .dataframe thead th {\n",
              "        text-align: right;\n",
              "    }\n",
              "</style>\n",
              "<table border=\"1\" class=\"dataframe\">\n",
              "  <thead>\n",
              "    <tr style=\"text-align: right;\">\n",
              "      <th></th>\n",
              "      <th>bookISBN</th>\n",
              "      <th>bookTitle</th>\n",
              "      <th>Desc</th>\n",
              "      <th>Author</th>\n",
              "      <th>ClGenres</th>\n",
              "      <th>fulltag</th>\n",
              "    </tr>\n",
              "  </thead>\n",
              "  <tbody>\n",
              "    <tr>\n",
              "      <th>0</th>\n",
              "      <td>9.780439e+12</td>\n",
              "      <td>The Hunger Games</td>\n",
              "      <td>[Could, you, survive, on, your, own, in, the, ...</td>\n",
              "      <td>[SuzanneCollins]</td>\n",
              "      <td>[YoungAdult,Fiction,ScienceFiction-Dystopia]</td>\n",
              "      <td>[YoungAdult,Fiction,ScienceFiction-Dystopia, C...</td>\n",
              "    </tr>\n",
              "    <tr>\n",
              "      <th>1</th>\n",
              "      <td>9.780316e+12</td>\n",
              "      <td>Twilight</td>\n",
              "      <td>[About, three, things, I, was, absolutely, pos...</td>\n",
              "      <td>[StephenieMeyer]</td>\n",
              "      <td>[YoungAdult,Fantasy,Romance]</td>\n",
              "      <td>[YoungAdult,Fantasy,Romance, About, three, thi...</td>\n",
              "    </tr>\n",
              "    <tr>\n",
              "      <th>2</th>\n",
              "      <td>9.780376e+12</td>\n",
              "      <td>The Book Thief</td>\n",
              "      <td>[Librarian's, note:, An, alternate, cover, edi...</td>\n",
              "      <td>[MarkusZusak]</td>\n",
              "      <td>[Historical-HistoricalFiction,Fiction,YoungAdult]</td>\n",
              "      <td>[Historical-HistoricalFiction,Fiction,YoungAdu...</td>\n",
              "    </tr>\n",
              "    <tr>\n",
              "      <th>3</th>\n",
              "      <td>9.780452e+12</td>\n",
              "      <td>Animal Farm</td>\n",
              "      <td>[George, Orwell's, timeless, and, timely, alle...</td>\n",
              "      <td>[GeorgeOrwell]</td>\n",
              "      <td>[Classics,Fiction,ScienceFiction-Dystopia]</td>\n",
              "      <td>[Classics,Fiction,ScienceFiction-Dystopia, Geo...</td>\n",
              "    </tr>\n",
              "    <tr>\n",
              "      <th>4</th>\n",
              "      <td>9.780066e+12</td>\n",
              "      <td>The Chronicles of Narnia</td>\n",
              "      <td>[Librarian, note:, An, alternate, cover, for, ...</td>\n",
              "      <td>[C.S.Lewis]</td>\n",
              "      <td>[Fantasy,Classics,Fiction]</td>\n",
              "      <td>[Fantasy,Classics,Fiction, Librarian, note:, A...</td>\n",
              "    </tr>\n",
              "  </tbody>\n",
              "</table>\n",
              "</div>"
            ],
            "text/plain": [
              "       bookISBN                 bookTitle  \\\n",
              "0  9.780439e+12          The Hunger Games   \n",
              "1  9.780316e+12                  Twilight   \n",
              "2  9.780376e+12            The Book Thief   \n",
              "3  9.780452e+12               Animal Farm   \n",
              "4  9.780066e+12  The Chronicles of Narnia   \n",
              "\n",
              "                                                Desc            Author  \\\n",
              "0  [Could, you, survive, on, your, own, in, the, ...  [SuzanneCollins]   \n",
              "1  [About, three, things, I, was, absolutely, pos...  [StephenieMeyer]   \n",
              "2  [Librarian's, note:, An, alternate, cover, edi...     [MarkusZusak]   \n",
              "3  [George, Orwell's, timeless, and, timely, alle...    [GeorgeOrwell]   \n",
              "4  [Librarian, note:, An, alternate, cover, for, ...       [C.S.Lewis]   \n",
              "\n",
              "                                            ClGenres  \\\n",
              "0       [YoungAdult,Fiction,ScienceFiction-Dystopia]   \n",
              "1                       [YoungAdult,Fantasy,Romance]   \n",
              "2  [Historical-HistoricalFiction,Fiction,YoungAdult]   \n",
              "3         [Classics,Fiction,ScienceFiction-Dystopia]   \n",
              "4                         [Fantasy,Classics,Fiction]   \n",
              "\n",
              "                                             fulltag  \n",
              "0  [YoungAdult,Fiction,ScienceFiction-Dystopia, C...  \n",
              "1  [YoungAdult,Fantasy,Romance, About, three, thi...  \n",
              "2  [Historical-HistoricalFiction,Fiction,YoungAdu...  \n",
              "3  [Classics,Fiction,ScienceFiction-Dystopia, Geo...  \n",
              "4  [Fantasy,Classics,Fiction, Librarian, note:, A...  "
            ]
          },
          "execution_count": 34,
          "metadata": {},
          "output_type": "execute_result"
        }
      ],
      "source": [
        "bdfc['fulltag']=bdfc['ClGenres']+bdfc['Desc']+bdfc['Author']\n",
        "bdfc.head()"
      ]
    },
    {
      "cell_type": "code",
      "execution_count": 35,
      "metadata": {
        "colab": {
          "base_uri": "https://localhost:8080/",
          "height": 590
        },
        "id": "YM0alLgRCIgV",
        "outputId": "86a55946-d70e-4b13-dc7a-dde8d86ad90a"
      },
      "outputs": [
        {
          "data": {
            "text/html": [
              "<div>\n",
              "<style scoped>\n",
              "    .dataframe tbody tr th:only-of-type {\n",
              "        vertical-align: middle;\n",
              "    }\n",
              "\n",
              "    .dataframe tbody tr th {\n",
              "        vertical-align: top;\n",
              "    }\n",
              "\n",
              "    .dataframe thead th {\n",
              "        text-align: right;\n",
              "    }\n",
              "</style>\n",
              "<table border=\"1\" class=\"dataframe\">\n",
              "  <thead>\n",
              "    <tr style=\"text-align: right;\">\n",
              "      <th></th>\n",
              "      <th>bookISBN</th>\n",
              "      <th>bookTitle</th>\n",
              "      <th>Desc</th>\n",
              "      <th>Author</th>\n",
              "      <th>ClGenres</th>\n",
              "      <th>fulltag</th>\n",
              "    </tr>\n",
              "  </thead>\n",
              "  <tbody>\n",
              "    <tr>\n",
              "      <th>0</th>\n",
              "      <td>9.780439e+12</td>\n",
              "      <td>The Hunger Games</td>\n",
              "      <td>[Could, you, survive, on, your, own, in, the, ...</td>\n",
              "      <td>[SuzanneCollins]</td>\n",
              "      <td>[YoungAdult,Fiction,ScienceFiction-Dystopia]</td>\n",
              "      <td>YoungAdult,Fiction,ScienceFiction-Dystopia Cou...</td>\n",
              "    </tr>\n",
              "    <tr>\n",
              "      <th>1</th>\n",
              "      <td>9.780316e+12</td>\n",
              "      <td>Twilight</td>\n",
              "      <td>[About, three, things, I, was, absolutely, pos...</td>\n",
              "      <td>[StephenieMeyer]</td>\n",
              "      <td>[YoungAdult,Fantasy,Romance]</td>\n",
              "      <td>YoungAdult,Fantasy,Romance About three things ...</td>\n",
              "    </tr>\n",
              "    <tr>\n",
              "      <th>2</th>\n",
              "      <td>9.780376e+12</td>\n",
              "      <td>The Book Thief</td>\n",
              "      <td>[Librarian's, note:, An, alternate, cover, edi...</td>\n",
              "      <td>[MarkusZusak]</td>\n",
              "      <td>[Historical-HistoricalFiction,Fiction,YoungAdult]</td>\n",
              "      <td>Historical-HistoricalFiction,Fiction,YoungAdul...</td>\n",
              "    </tr>\n",
              "    <tr>\n",
              "      <th>3</th>\n",
              "      <td>9.780452e+12</td>\n",
              "      <td>Animal Farm</td>\n",
              "      <td>[George, Orwell's, timeless, and, timely, alle...</td>\n",
              "      <td>[GeorgeOrwell]</td>\n",
              "      <td>[Classics,Fiction,ScienceFiction-Dystopia]</td>\n",
              "      <td>Classics,Fiction,ScienceFiction-Dystopia Georg...</td>\n",
              "    </tr>\n",
              "    <tr>\n",
              "      <th>4</th>\n",
              "      <td>9.780066e+12</td>\n",
              "      <td>The Chronicles of Narnia</td>\n",
              "      <td>[Librarian, note:, An, alternate, cover, for, ...</td>\n",
              "      <td>[C.S.Lewis]</td>\n",
              "      <td>[Fantasy,Classics,Fiction]</td>\n",
              "      <td>Fantasy,Classics,Fiction Librarian note: An al...</td>\n",
              "    </tr>\n",
              "  </tbody>\n",
              "</table>\n",
              "</div>"
            ],
            "text/plain": [
              "       bookISBN                 bookTitle  \\\n",
              "0  9.780439e+12          The Hunger Games   \n",
              "1  9.780316e+12                  Twilight   \n",
              "2  9.780376e+12            The Book Thief   \n",
              "3  9.780452e+12               Animal Farm   \n",
              "4  9.780066e+12  The Chronicles of Narnia   \n",
              "\n",
              "                                                Desc            Author  \\\n",
              "0  [Could, you, survive, on, your, own, in, the, ...  [SuzanneCollins]   \n",
              "1  [About, three, things, I, was, absolutely, pos...  [StephenieMeyer]   \n",
              "2  [Librarian's, note:, An, alternate, cover, edi...     [MarkusZusak]   \n",
              "3  [George, Orwell's, timeless, and, timely, alle...    [GeorgeOrwell]   \n",
              "4  [Librarian, note:, An, alternate, cover, for, ...       [C.S.Lewis]   \n",
              "\n",
              "                                            ClGenres  \\\n",
              "0       [YoungAdult,Fiction,ScienceFiction-Dystopia]   \n",
              "1                       [YoungAdult,Fantasy,Romance]   \n",
              "2  [Historical-HistoricalFiction,Fiction,YoungAdult]   \n",
              "3         [Classics,Fiction,ScienceFiction-Dystopia]   \n",
              "4                         [Fantasy,Classics,Fiction]   \n",
              "\n",
              "                                             fulltag  \n",
              "0  YoungAdult,Fiction,ScienceFiction-Dystopia Cou...  \n",
              "1  YoungAdult,Fantasy,Romance About three things ...  \n",
              "2  Historical-HistoricalFiction,Fiction,YoungAdul...  \n",
              "3  Classics,Fiction,ScienceFiction-Dystopia Georg...  \n",
              "4  Fantasy,Classics,Fiction Librarian note: An al...  "
            ]
          },
          "execution_count": 35,
          "metadata": {},
          "output_type": "execute_result"
        }
      ],
      "source": [
        "bdfc['fulltag'] = bdfc['fulltag'].apply(lambda x: \" \".join(x))\n",
        "bdfc.head()"
      ]
    },
    {
      "cell_type": "code",
      "execution_count": 36,
      "metadata": {
        "colab": {
          "base_uri": "https://localhost:8080/",
          "height": 206
        },
        "id": "fWvkKnEMCjdD",
        "outputId": "742f3566-8665-4ff0-8369-970e4c71feba"
      },
      "outputs": [
        {
          "data": {
            "text/html": [
              "<div>\n",
              "<style scoped>\n",
              "    .dataframe tbody tr th:only-of-type {\n",
              "        vertical-align: middle;\n",
              "    }\n",
              "\n",
              "    .dataframe tbody tr th {\n",
              "        vertical-align: top;\n",
              "    }\n",
              "\n",
              "    .dataframe thead th {\n",
              "        text-align: right;\n",
              "    }\n",
              "</style>\n",
              "<table border=\"1\" class=\"dataframe\">\n",
              "  <thead>\n",
              "    <tr style=\"text-align: right;\">\n",
              "      <th></th>\n",
              "      <th>bookISBN</th>\n",
              "      <th>bookTitle</th>\n",
              "      <th>fulltag</th>\n",
              "    </tr>\n",
              "  </thead>\n",
              "  <tbody>\n",
              "    <tr>\n",
              "      <th>0</th>\n",
              "      <td>9.780439e+12</td>\n",
              "      <td>The Hunger Games</td>\n",
              "      <td>YoungAdult,Fiction,ScienceFiction-Dystopia Cou...</td>\n",
              "    </tr>\n",
              "    <tr>\n",
              "      <th>1</th>\n",
              "      <td>9.780316e+12</td>\n",
              "      <td>Twilight</td>\n",
              "      <td>YoungAdult,Fantasy,Romance About three things ...</td>\n",
              "    </tr>\n",
              "    <tr>\n",
              "      <th>2</th>\n",
              "      <td>9.780376e+12</td>\n",
              "      <td>The Book Thief</td>\n",
              "      <td>Historical-HistoricalFiction,Fiction,YoungAdul...</td>\n",
              "    </tr>\n",
              "    <tr>\n",
              "      <th>3</th>\n",
              "      <td>9.780452e+12</td>\n",
              "      <td>Animal Farm</td>\n",
              "      <td>Classics,Fiction,ScienceFiction-Dystopia Georg...</td>\n",
              "    </tr>\n",
              "    <tr>\n",
              "      <th>4</th>\n",
              "      <td>9.780066e+12</td>\n",
              "      <td>The Chronicles of Narnia</td>\n",
              "      <td>Fantasy,Classics,Fiction Librarian note: An al...</td>\n",
              "    </tr>\n",
              "  </tbody>\n",
              "</table>\n",
              "</div>"
            ],
            "text/plain": [
              "       bookISBN                 bookTitle  \\\n",
              "0  9.780439e+12          The Hunger Games   \n",
              "1  9.780316e+12                  Twilight   \n",
              "2  9.780376e+12            The Book Thief   \n",
              "3  9.780452e+12               Animal Farm   \n",
              "4  9.780066e+12  The Chronicles of Narnia   \n",
              "\n",
              "                                             fulltag  \n",
              "0  YoungAdult,Fiction,ScienceFiction-Dystopia Cou...  \n",
              "1  YoungAdult,Fantasy,Romance About three things ...  \n",
              "2  Historical-HistoricalFiction,Fiction,YoungAdul...  \n",
              "3  Classics,Fiction,ScienceFiction-Dystopia Georg...  \n",
              "4  Fantasy,Classics,Fiction Librarian note: An al...  "
            ]
          },
          "execution_count": 36,
          "metadata": {},
          "output_type": "execute_result"
        }
      ],
      "source": [
        "finbd = bdfc.drop(columns=['ClGenres','Desc','Author',])\n",
        "finbd.head()"
      ]
    },
    {
      "cell_type": "code",
      "execution_count": 37,
      "metadata": {
        "colab": {
          "base_uri": "https://localhost:8080/"
        },
        "id": "ETNRj4A5DHUT",
        "outputId": "1c189e35-0fea-45b6-912b-0772f95f2f33"
      },
      "outputs": [
        {
          "data": {
            "text/plain": [
              "968"
            ]
          },
          "execution_count": 37,
          "metadata": {},
          "output_type": "execute_result"
        }
      ],
      "source": [
        "len(finbd['fulltag'][0])"
      ]
    },
    {
      "cell_type": "code",
      "execution_count": 38,
      "metadata": {
        "colab": {
          "base_uri": "https://localhost:8080/"
        },
        "id": "kSITXHwsEF5P",
        "outputId": "e5cd8919-9186-40e6-e143-15d2458fca0f"
      },
      "outputs": [
        {
          "name": "stdout",
          "output_type": "stream",
          "text": [
            "<class 'pandas.core.frame.DataFrame'>\n",
            "RangeIndex: 8316 entries, 0 to 8315\n",
            "Data columns (total 3 columns):\n",
            " #   Column     Non-Null Count  Dtype  \n",
            "---  ------     --------------  -----  \n",
            " 0   bookISBN   8316 non-null   float64\n",
            " 1   bookTitle  8316 non-null   object \n",
            " 2   fulltag    8316 non-null   object \n",
            "dtypes: float64(1), object(2)\n",
            "memory usage: 195.0+ KB\n"
          ]
        }
      ],
      "source": [
        "finbd.info()"
      ]
    },
    {
      "cell_type": "code",
      "execution_count": 39,
      "metadata": {},
      "outputs": [
        {
          "data": {
            "text/plain": [
              "bookISBN     0\n",
              "bookTitle    0\n",
              "fulltag      0\n",
              "dtype: int64"
            ]
          },
          "execution_count": 39,
          "metadata": {},
          "output_type": "execute_result"
        }
      ],
      "source": [
        "finbd.isna().sum()"
      ]
    },
    {
      "cell_type": "code",
      "execution_count": 40,
      "metadata": {},
      "outputs": [],
      "source": [
        "finbd=finbd.dropna()"
      ]
    },
    {
      "cell_type": "code",
      "execution_count": 41,
      "metadata": {},
      "outputs": [],
      "source": [
        "finbd = finbd.reset_index(drop=True)\n"
      ]
    },
    {
      "cell_type": "code",
      "execution_count": 42,
      "metadata": {},
      "outputs": [
        {
          "data": {
            "text/html": [
              "<div>\n",
              "<style scoped>\n",
              "    .dataframe tbody tr th:only-of-type {\n",
              "        vertical-align: middle;\n",
              "    }\n",
              "\n",
              "    .dataframe tbody tr th {\n",
              "        vertical-align: top;\n",
              "    }\n",
              "\n",
              "    .dataframe thead th {\n",
              "        text-align: right;\n",
              "    }\n",
              "</style>\n",
              "<table border=\"1\" class=\"dataframe\">\n",
              "  <thead>\n",
              "    <tr style=\"text-align: right;\">\n",
              "      <th></th>\n",
              "      <th>bookISBN</th>\n",
              "      <th>bookTitle</th>\n",
              "      <th>fulltag</th>\n",
              "    </tr>\n",
              "  </thead>\n",
              "  <tbody>\n",
              "    <tr>\n",
              "      <th>0</th>\n",
              "      <td>9.780439e+12</td>\n",
              "      <td>The Hunger Games</td>\n",
              "      <td>YoungAdult,Fiction,ScienceFiction-Dystopia Cou...</td>\n",
              "    </tr>\n",
              "    <tr>\n",
              "      <th>1</th>\n",
              "      <td>9.780316e+12</td>\n",
              "      <td>Twilight</td>\n",
              "      <td>YoungAdult,Fantasy,Romance About three things ...</td>\n",
              "    </tr>\n",
              "    <tr>\n",
              "      <th>2</th>\n",
              "      <td>9.780376e+12</td>\n",
              "      <td>The Book Thief</td>\n",
              "      <td>Historical-HistoricalFiction,Fiction,YoungAdul...</td>\n",
              "    </tr>\n",
              "    <tr>\n",
              "      <th>3</th>\n",
              "      <td>9.780452e+12</td>\n",
              "      <td>Animal Farm</td>\n",
              "      <td>Classics,Fiction,ScienceFiction-Dystopia Georg...</td>\n",
              "    </tr>\n",
              "    <tr>\n",
              "      <th>4</th>\n",
              "      <td>9.780066e+12</td>\n",
              "      <td>The Chronicles of Narnia</td>\n",
              "      <td>Fantasy,Classics,Fiction Librarian note: An al...</td>\n",
              "    </tr>\n",
              "    <tr>\n",
              "      <th>...</th>\n",
              "      <td>...</td>\n",
              "      <td>...</td>\n",
              "      <td>...</td>\n",
              "    </tr>\n",
              "    <tr>\n",
              "      <th>8311</th>\n",
              "      <td>9.780785e+12</td>\n",
              "      <td>Civil War: A Marvel Comics Event</td>\n",
              "      <td>SequentialArt-Comics,SequentialArt-GraphicNove...</td>\n",
              "    </tr>\n",
              "    <tr>\n",
              "      <th>8312</th>\n",
              "      <td>9.781842e+12</td>\n",
              "      <td>Peter the Great: His Life and World</td>\n",
              "      <td>History,Biography,Nonfiction Against the monum...</td>\n",
              "    </tr>\n",
              "    <tr>\n",
              "      <th>8313</th>\n",
              "      <td>9.780064e+12</td>\n",
              "      <td>Owl at Home (I Can Read, Level 2)</td>\n",
              "      <td>Childrens,Childrens-PictureBooks,Fiction Welco...</td>\n",
              "    </tr>\n",
              "    <tr>\n",
              "      <th>8314</th>\n",
              "      <td>9.780386e+12</td>\n",
              "      <td>The People in the Trees</td>\n",
              "      <td>Fiction,Historical-HistoricalFiction,MagicalRe...</td>\n",
              "    </tr>\n",
              "    <tr>\n",
              "      <th>8315</th>\n",
              "      <td>9.788129e+12</td>\n",
              "      <td>Half Girlfriend</td>\n",
              "      <td>Fiction,Romance,AsianLiterature-IndianLiteratu...</td>\n",
              "    </tr>\n",
              "  </tbody>\n",
              "</table>\n",
              "<p>8316 rows × 3 columns</p>\n",
              "</div>"
            ],
            "text/plain": [
              "          bookISBN                            bookTitle  \\\n",
              "0     9.780439e+12                     The Hunger Games   \n",
              "1     9.780316e+12                             Twilight   \n",
              "2     9.780376e+12                       The Book Thief   \n",
              "3     9.780452e+12                          Animal Farm   \n",
              "4     9.780066e+12             The Chronicles of Narnia   \n",
              "...            ...                                  ...   \n",
              "8311  9.780785e+12     Civil War: A Marvel Comics Event   \n",
              "8312  9.781842e+12  Peter the Great: His Life and World   \n",
              "8313  9.780064e+12    Owl at Home (I Can Read, Level 2)   \n",
              "8314  9.780386e+12              The People in the Trees   \n",
              "8315  9.788129e+12                      Half Girlfriend   \n",
              "\n",
              "                                                fulltag  \n",
              "0     YoungAdult,Fiction,ScienceFiction-Dystopia Cou...  \n",
              "1     YoungAdult,Fantasy,Romance About three things ...  \n",
              "2     Historical-HistoricalFiction,Fiction,YoungAdul...  \n",
              "3     Classics,Fiction,ScienceFiction-Dystopia Georg...  \n",
              "4     Fantasy,Classics,Fiction Librarian note: An al...  \n",
              "...                                                 ...  \n",
              "8311  SequentialArt-Comics,SequentialArt-GraphicNove...  \n",
              "8312  History,Biography,Nonfiction Against the monum...  \n",
              "8313  Childrens,Childrens-PictureBooks,Fiction Welco...  \n",
              "8314  Fiction,Historical-HistoricalFiction,MagicalRe...  \n",
              "8315  Fiction,Romance,AsianLiterature-IndianLiteratu...  \n",
              "\n",
              "[8316 rows x 3 columns]"
            ]
          },
          "execution_count": 42,
          "metadata": {},
          "output_type": "execute_result"
        }
      ],
      "source": [
        "finbd"
      ]
    },
    {
      "cell_type": "code",
      "execution_count": 43,
      "metadata": {
        "id": "-SaYNzZzEdB6"
      },
      "outputs": [],
      "source": [
        "from sklearn.feature_extraction.text import CountVectorizer\n",
        "cv = CountVectorizer(max_features=5000,stop_words='english')"
      ]
    },
    {
      "cell_type": "code",
      "execution_count": 44,
      "metadata": {
        "id": "Cw2k9p2eEgiR"
      },
      "outputs": [],
      "source": [
        "vector = cv.fit_transform(finbd['fulltag']).toarray()\n"
      ]
    },
    {
      "cell_type": "code",
      "execution_count": 45,
      "metadata": {
        "colab": {
          "base_uri": "https://localhost:8080/"
        },
        "id": "M07s0khBEp2R",
        "outputId": "5d117011-7e1b-416f-8a87-f10f36939bb7"
      },
      "outputs": [
        {
          "data": {
            "text/plain": [
              "(8316, 5000)"
            ]
          },
          "execution_count": 45,
          "metadata": {},
          "output_type": "execute_result"
        }
      ],
      "source": [
        "vector.shape\n"
      ]
    },
    {
      "cell_type": "code",
      "execution_count": 46,
      "metadata": {
        "id": "loHZojy6EqkU"
      },
      "outputs": [],
      "source": [
        "from sklearn.metrics.pairwise import cosine_similarity\n",
        "similarity = cosine_similarity(vector)\n"
      ]
    },
    {
      "cell_type": "code",
      "execution_count": 47,
      "metadata": {
        "colab": {
          "base_uri": "https://localhost:8080/"
        },
        "id": "di4E5rgeE5iS",
        "outputId": "4a70802e-3cea-4110-a3e1-c4c5056da8d7"
      },
      "outputs": [
        {
          "data": {
            "text/plain": [
              "array([1.        , 0.09016696, 0.08240428, ..., 0.04819627, 0.02951407,\n",
              "       0.08414891])"
            ]
          },
          "execution_count": 47,
          "metadata": {},
          "output_type": "execute_result"
        }
      ],
      "source": [
        "similarity[0]"
      ]
    },
    {
      "cell_type": "code",
      "execution_count": 48,
      "metadata": {
        "id": "XHRbLA6lE9jH"
      },
      "outputs": [],
      "source": [
        "#def recommend(book):\n",
        " \n",
        "\n",
        "#index = bdfc[bdfc['bookTitle'] == book].index[0]\n",
        " #   distances = sorted(list(enumerate(similarity[index])),reverse=True,key = lambda x: x[1])\n",
        "  #  for i in distances[1:6]:\n",
        "   #     print(bdfc.iloc[i[0]].bookTitle)\n",
        "\n"
      ]
    },
    {
      "cell_type": "code",
      "execution_count": 49,
      "metadata": {},
      "outputs": [],
      "source": [
        "def recommend(book):\n",
        "    index = finbd[finbd['bookTitle'] == book].index[0]\n",
        "    distances = sorted(list(enumerate(similarity[index])), reverse=True, key=lambda x: x[1])\n",
        "    \n",
        "    recommended_books = []\n",
        "    author_names = []\n",
        "    recommended_titles_set = set()  # To track unique recommended book titles\n",
        "    recommendation_counter = 0  # To limit the recommendations to 5\n",
        "    \n",
        "    for i in distances[1:15]:\n",
        "        title = finbd.iloc[i[0]].bookTitle\n",
        "        if title not in recommended_titles_set and title!=book:\n",
        "            recommended_books.append(title)\n",
        "            author_names.append(bdf.iloc[i[0]].FirstAuthor)\n",
        "            recommended_titles_set.add(title)\n",
        "            recommendation_counter += 1\n",
        "        \n",
        "        if recommendation_counter == 5:\n",
        "            break\n",
        "    \n",
        "    return recommended_books, author_names"
      ]
    },
    {
      "cell_type": "code",
      "execution_count": 53,
      "metadata": {},
      "outputs": [
        {
          "name": "stdout",
          "output_type": "stream",
          "text": [
            "1. Catching Fire -Suzanne Collins\n",
            "2. We Have Always Lived in the Castle -Shirley Jackson\n",
            "3. Mockingjay -Suzanne Collins\n",
            "4. Teardrop -Lauren Kate\n",
            "5. Till The Last Breath -Durjoy Datta\n"
          ]
        }
      ],
      "source": [
        "book=input(\"Enter a book to get recommendations:\")\n",
        "recommended_books,author_names = recommend(book)\n",
        "for idx, (book, author) in enumerate(zip(recommended_books, author_names), start=1):\n",
        "        print(f\"{idx}. {book} -{author}\")"
      ]
    },
    {
      "cell_type": "code",
      "execution_count": 51,
      "metadata": {
        "id": "bjj6dLYuIct5"
      },
      "outputs": [],
      "source": [
        "import pickle"
      ]
    },
    {
      "cell_type": "code",
      "execution_count": 52,
      "metadata": {
        "id": "-v5H4L_HshNh"
      },
      "outputs": [
        {
          "ename": "FileNotFoundError",
          "evalue": "[Errno 2] No such file or directory: '/content/df'",
          "output_type": "error",
          "traceback": [
            "\u001b[1;31m---------------------------------------------------------------------------\u001b[0m",
            "\u001b[1;31mFileNotFoundError\u001b[0m                         Traceback (most recent call last)",
            "Cell \u001b[1;32mIn[52], line 1\u001b[0m\n\u001b[1;32m----> 1\u001b[0m pickle\u001b[38;5;241m.\u001b[39mdump(finbd,\u001b[38;5;28;43mopen\u001b[39;49m\u001b[43m(\u001b[49m\u001b[38;5;124;43m'\u001b[39;49m\u001b[38;5;124;43m/content/df\u001b[39;49m\u001b[38;5;124;43m'\u001b[39;49m\u001b[43m,\u001b[49m\u001b[38;5;124;43m'\u001b[39;49m\u001b[38;5;124;43mwb\u001b[39;49m\u001b[38;5;124;43m'\u001b[39;49m\u001b[43m)\u001b[49m)\n",
            "File \u001b[1;32mc:\\Python310\\lib\\site-packages\\IPython\\core\\interactiveshell.py:284\u001b[0m, in \u001b[0;36m_modified_open\u001b[1;34m(file, *args, **kwargs)\u001b[0m\n\u001b[0;32m    277\u001b[0m \u001b[38;5;28;01mif\u001b[39;00m file \u001b[38;5;129;01min\u001b[39;00m {\u001b[38;5;241m0\u001b[39m, \u001b[38;5;241m1\u001b[39m, \u001b[38;5;241m2\u001b[39m}:\n\u001b[0;32m    278\u001b[0m     \u001b[38;5;28;01mraise\u001b[39;00m \u001b[38;5;167;01mValueError\u001b[39;00m(\n\u001b[0;32m    279\u001b[0m         \u001b[38;5;124mf\u001b[39m\u001b[38;5;124m\"\u001b[39m\u001b[38;5;124mIPython won\u001b[39m\u001b[38;5;124m'\u001b[39m\u001b[38;5;124mt let you open fd=\u001b[39m\u001b[38;5;132;01m{\u001b[39;00mfile\u001b[38;5;132;01m}\u001b[39;00m\u001b[38;5;124m by default \u001b[39m\u001b[38;5;124m\"\u001b[39m\n\u001b[0;32m    280\u001b[0m         \u001b[38;5;124m\"\u001b[39m\u001b[38;5;124mas it is likely to crash IPython. If you know what you are doing, \u001b[39m\u001b[38;5;124m\"\u001b[39m\n\u001b[0;32m    281\u001b[0m         \u001b[38;5;124m\"\u001b[39m\u001b[38;5;124myou can use builtins\u001b[39m\u001b[38;5;124m'\u001b[39m\u001b[38;5;124m open.\u001b[39m\u001b[38;5;124m\"\u001b[39m\n\u001b[0;32m    282\u001b[0m     )\n\u001b[1;32m--> 284\u001b[0m \u001b[38;5;28;01mreturn\u001b[39;00m io_open(file, \u001b[38;5;241m*\u001b[39margs, \u001b[38;5;241m*\u001b[39m\u001b[38;5;241m*\u001b[39mkwargs)\n",
            "\u001b[1;31mFileNotFoundError\u001b[0m: [Errno 2] No such file or directory: '/content/df'"
          ]
        }
      ],
      "source": [
        "pickle.dump(finbd,open('/content/df','wb'))"
      ]
    },
    {
      "cell_type": "code",
      "execution_count": null,
      "metadata": {
        "id": "Y_g2CrK9tVWM"
      },
      "outputs": [],
      "source": [
        "pickle.dump(similarity,open('/content/bookrecm.rar','wb'))"
      ]
    }
  ],
  "metadata": {
    "colab": {
      "provenance": []
    },
    "kernelspec": {
      "display_name": "Python 3",
      "name": "python3"
    },
    "language_info": {
      "codemirror_mode": {
        "name": "ipython",
        "version": 3
      },
      "file_extension": ".py",
      "mimetype": "text/x-python",
      "name": "python",
      "nbconvert_exporter": "python",
      "pygments_lexer": "ipython3",
      "version": "3.10.8"
    }
  },
  "nbformat": 4,
  "nbformat_minor": 0
}
